{
 "cells": [
  {
   "cell_type": "markdown",
   "metadata": {},
   "source": [
    "# Pipeline de Processamento e Análise de Dados de Vendas \n",
    "## Postos de Gasolina da Alemanha\n",
    "## Michel Souza Santana\n",
    "> 09/07/2023"
   ]
  },
  {
   "cell_type": "code",
   "execution_count": 16,
   "metadata": {},
   "outputs": [],
   "source": [
    "import pandas as pd"
   ]
  },
  {
   "cell_type": "code",
   "execution_count": 17,
   "metadata": {},
   "outputs": [
    {
     "name": "stdout",
     "output_type": "stream",
     "text": [
      "O número de pastas em '/home/michel/Documentos/Analise_de_Dados_de_Vendas/data/german_petrol/price/2022' é: 12\n",
      "Caminhos dos arquivos dentro das pastas:\n"
     ]
    }
   ],
   "source": [
    "import os\n",
    "\n",
    "def contar_pastas(pasta):\n",
    "    if not os.path.exists(pasta) or not os.path.isdir(pasta):\n",
    "        print(f\"A pasta '{pasta}' não existe ou não é uma pasta válida.\")\n",
    "        return -1\n",
    "\n",
    "    lista_itens = os.listdir(pasta)\n",
    "    pastas = [item for item in lista_itens if os.path.isdir(os.path.join(pasta, item))]\n",
    "    \n",
    "    return len(pastas)\n",
    "\n",
    "def capturar_caminhos_arquivos(pasta):\n",
    "    caminhos_arquivos = []\n",
    "    for pasta_atual, _, arquivos in os.walk(pasta):\n",
    "        for arquivo in arquivos:\n",
    "            caminhos_arquivos.append(os.path.join(pasta_atual, arquivo))\n",
    "    return caminhos_arquivos\n",
    "\n",
    "caminho_da_pasta = '/home/michel/Documentos/Analise_de_Dados_de_Vendas/data/german_petrol/price/2022'\n",
    "numero_de_pastas = contar_pastas(caminho_da_pasta)\n",
    "\n",
    "if numero_de_pastas != -1:\n",
    "    print(f\"O número de pastas em '{caminho_da_pasta}' é: {numero_de_pastas}\")\n",
    "    caminhos_arquivos = capturar_caminhos_arquivos(caminho_da_pasta)\n",
    "    print(f\"Caminhos dos arquivos dentro das pastas:\")\n"
   ]
  },
  {
   "cell_type": "code",
   "execution_count": 29,
   "metadata": {},
   "outputs": [
    {
     "data": {
      "text/plain": [
       "(365, 1)"
      ]
     },
     "execution_count": 29,
     "metadata": {},
     "output_type": "execute_result"
    }
   ],
   "source": [
    "# Criar o DataFrame a partir dos caminhos de arquivo\n",
    "df_2022_days = pd.DataFrame({'caminho_arquivo': caminhos_arquivos})\n",
    "df_2022_days.shape"
   ]
  },
  {
   "cell_type": "code",
   "execution_count": 31,
   "metadata": {},
   "outputs": [
    {
     "data": {
      "text/plain": [
       "'/home/michel/Documentos/Analise_de_Dados_de_Vendas/data/german_petrol/price/2022/07/2022-07-22-prices.csv'"
      ]
     },
     "execution_count": 31,
     "metadata": {},
     "output_type": "execute_result"
    }
   ],
   "source": [
    "df_2022_days['caminho_arquivo'][0]"
   ]
  },
  {
   "cell_type": "code",
   "execution_count": 33,
   "metadata": {},
   "outputs": [],
   "source": [
    "dataframes = []\n",
    "for caminho_arquivo in caminhos_arquivos:\n",
    "    df_aux = pd.read_csv(caminho_arquivo)\n",
    "    dataframes.append(df_aux)\n",
    "\n",
    "# Concatenar todos os DataFrames da lista em um único DataFrame final\n",
    "df = pd.concat(dataframes, axis=0, ignore_index=True)"
   ]
  },
  {
   "cell_type": "code",
   "execution_count": null,
   "metadata": {},
   "outputs": [],
   "source": [
    "df"
   ]
  }
 ],
 "metadata": {
  "kernelspec": {
   "display_name": "Python 3",
   "language": "python",
   "name": "python3"
  },
  "language_info": {
   "codemirror_mode": {
    "name": "ipython",
    "version": 3
   },
   "file_extension": ".py",
   "mimetype": "text/x-python",
   "name": "python",
   "nbconvert_exporter": "python",
   "pygments_lexer": "ipython3",
   "version": "3.10.6"
  },
  "orig_nbformat": 4
 },
 "nbformat": 4,
 "nbformat_minor": 2
}
