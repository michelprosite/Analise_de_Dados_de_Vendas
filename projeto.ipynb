{
 "cells": [
  {
   "cell_type": "markdown",
   "metadata": {},
   "source": [
    "# Pipeline de Processamento e Análise de Dados de Vendas \n",
    "## Postos de Gasolina da Alemanha\n",
    "## Michel Souza Santana\n",
    "> 09/07/2023"
   ]
  },
  {
   "cell_type": "markdown",
   "metadata": {},
   "source": [
    "## Ingestão dos dados"
   ]
  },
  {
   "cell_type": "markdown",
   "metadata": {},
   "source": [
    "Fonte dos dados: https://dev.azure.com/tankerkoenig/_git/tankerkoenig-data?path=/prices"
   ]
  },
  {
   "cell_type": "code",
   "execution_count": 14,
   "metadata": {},
   "outputs": [],
   "source": [
    "import os\n",
    "import pandas as pd"
   ]
  },
  {
   "cell_type": "code",
   "execution_count": null,
   "metadata": {},
   "outputs": [],
   "source": [
    "\"\"\"\n",
    "def contar_pastas(pasta):\n",
    "    if not os.path.exists(pasta) or not os.path.isdir(pasta):\n",
    "        print(f\"A pasta '{pasta}' não existe ou não é uma pasta válida.\")\n",
    "        return -1\n",
    "\n",
    "    lista_itens = os.listdir(pasta)\n",
    "    pastas = [item for item in lista_itens if os.path.isdir(os.path.join(pasta, item))]\n",
    "    \n",
    "    return len(pastas)\n",
    "\n",
    "    print(pastas)\n",
    "\"\"\""
   ]
  },
  {
   "cell_type": "code",
   "execution_count": 15,
   "metadata": {},
   "outputs": [
    {
     "name": "stdout",
     "output_type": "stream",
     "text": [
      "O número de pastas em '/home/michel/Documentos/Analise_de_Dados_de_Vendas/data/german_petrol/price/2022' é: 12\n",
      "Caminhos dos arquivos dentro das pastas:\n"
     ]
    }
   ],
   "source": [
    "def capturar_caminhos_arquivos(pasta):\n",
    "    caminhos_arquivos = []\n",
    "    for pasta_atual, _, arquivos in os.walk(pasta):\n",
    "        for arquivo in arquivos:\n",
    "            caminhos_arquivos.append(os.path.join(pasta_atual, arquivo))\n",
    "    return caminhos_arquivos\n",
    "\n",
    "caminho_da_pasta = '/home/michel/Documentos/Analise_de_Dados_de_Vendas/data/german_petrol/price/2022'\n",
    "numero_de_pastas = contar_pastas(caminho_da_pasta)\n",
    "\n",
    "if numero_de_pastas != -1:\n",
    "    print(f\"O número de pastas em '{caminho_da_pasta}' é: {numero_de_pastas}\")\n",
    "    caminhos_arquivos = capturar_caminhos_arquivos(caminho_da_pasta)\n",
    "    print(f\"Caminhos dos arquivos dentro das pastas:\")"
   ]
  },
  {
   "cell_type": "code",
   "execution_count": 21,
   "metadata": {},
   "outputs": [],
   "source": [
    "def carrega_dados():\n",
    "    diretorio_destino = \"/home/michel/Documentos/Analise_de_Dados_de_Vendas/data/german_petrol/price_parquet\"\n",
    "\n",
    "    if not os.path.exists(diretorio_destino):\n",
    "        os.makedirs(diretorio_destino)\n",
    "    \n",
    "    for caminho_arquivo in caminhos_arquivos:\n",
    "        df_aux = pd.read_csv(caminho_arquivo)\n",
    "        nome_arquivo = os.path.basename(caminho_arquivo)\n",
    "    \n",
    "        nome_arquivo_parquet = os.path.splitext(nome_arquivo)[0] + \".parquet\"\n",
    "\n",
    "        caminho_arquivo_parquet = os.path.join(diretorio_destino, nome_arquivo_parquet)\n",
    "\n",
    "        df_aux.to_parquet(caminho_arquivo_parquet)\n",
    "    \n",
    "        print(f\"Arquivo {nome_arquivo_parquet} convertido e salvo em {caminho_arquivo_parquet}\")\n",
    "    "
   ]
  },
  {
   "cell_type": "code",
   "execution_count": 17,
   "metadata": {},
   "outputs": [
    {
     "data": {
      "text/plain": [
       "\"import os\\nimport pandas as pd\\nimport pyarrow.parquet as pq\\n\\ndef capturar_caminhos_parquet(pasta):\\n    caminhos_parquet = []\\n    for pasta_atual, _, arquivos in os.walk(pasta):\\n        for arquivo in arquivos:\\n            if arquivo.endswith('.parquet'):  # Garantir que só arquivos Parquet sejam adicionados\\n                caminhos_parquet.append(os.path.join(pasta_atual, arquivo))\\n    return caminhos_parquet\\n\\npasta = '/home/michel/Documentos/Analise_de_Dados_de_Vendas/data/german_petrol/price_parquet'\\ncaminhos_parquet = capturar_caminhos_parquet(pasta)\\n\\ndataframes = []\\nfor caminho_arquivo in caminhos_parquet:\\n    df_aux = pd.read_parquet(caminho_arquivo)\\n    dataframes.append(df_aux)\\n\\n# Concatenar todos os DataFrames da lista em um único DataFrame final\\ndf = pd.concat(dataframes, axis=1, ignore_index=True)\""
      ]
     },
     "execution_count": 17,
     "metadata": {},
     "output_type": "execute_result"
    }
   ],
   "source": [
    "\"\"\"import os\n",
    "import pandas as pd\n",
    "import pyarrow.parquet as pq\n",
    "\n",
    "def capturar_caminhos_parquet(pasta):\n",
    "    caminhos_parquet = []\n",
    "    for pasta_atual, _, arquivos in os.walk(pasta):\n",
    "        for arquivo in arquivos:\n",
    "            if arquivo.endswith('.parquet'):  # Garantir que só arquivos Parquet sejam adicionados\n",
    "                caminhos_parquet.append(os.path.join(pasta_atual, arquivo))\n",
    "    return caminhos_parquet\n",
    "\n",
    "pasta = '/home/michel/Documentos/Analise_de_Dados_de_Vendas/data/german_petrol/price_parquet'\n",
    "caminhos_parquet = capturar_caminhos_parquet(pasta)\n",
    "\n",
    "dataframes = []\n",
    "for caminho_arquivo in caminhos_parquet:\n",
    "    df_aux = pd.read_parquet(caminho_arquivo)\n",
    "    dataframes.append(df_aux)\n",
    "\n",
    "# Concatenar todos os DataFrames da lista em um único DataFrame final\n",
    "df = pd.concat(dataframes, axis=1, ignore_index=True)\"\"\"\n"
   ]
  },
  {
   "cell_type": "code",
   "execution_count": 18,
   "metadata": {},
   "outputs": [
    {
     "ename": "NameError",
     "evalue": "name 'df' is not defined",
     "output_type": "error",
     "traceback": [
      "\u001b[0;31m---------------------------------------------------------------------------\u001b[0m",
      "\u001b[0;31mNameError\u001b[0m                                 Traceback (most recent call last)",
      "Cell \u001b[0;32mIn[18], line 1\u001b[0m\n\u001b[0;32m----> 1\u001b[0m df\n",
      "\u001b[0;31mNameError\u001b[0m: name 'df' is not defined"
     ]
    }
   ],
   "source": [
    "df"
   ]
  }
 ],
 "metadata": {
  "kernelspec": {
   "display_name": "Python 3",
   "language": "python",
   "name": "python3"
  },
  "language_info": {
   "codemirror_mode": {
    "name": "ipython",
    "version": 3
   },
   "file_extension": ".py",
   "mimetype": "text/x-python",
   "name": "python",
   "nbconvert_exporter": "python",
   "pygments_lexer": "ipython3",
   "version": "3.10.6"
  },
  "orig_nbformat": 4
 },
 "nbformat": 4,
 "nbformat_minor": 2
}
