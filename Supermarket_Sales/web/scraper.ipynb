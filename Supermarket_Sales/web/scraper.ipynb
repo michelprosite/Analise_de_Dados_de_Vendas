{
 "cells": [
  {
   "cell_type": "code",
   "execution_count": 1,
   "metadata": {},
   "outputs": [
    {
     "name": "stdout",
     "output_type": "stream",
     "text": [
      "[['1', 'Yangon, Yangon', '4,477,638', '16.805 / 96.156'], ['2', 'Mandalay, Mandalay', '1,208,099', '21.975 / 96.084'], ['3', 'Nay Pyi Taw, Nay Pyi Taw', '925,000', '19.745 / 96.13'], ['4', 'Mawlamyine, Mon', '438,861', '16.491 / 97.628'], ['5', 'Kyain Seikgyi Township, Kayin', '246,065', '15.823 / 98.253'], ['6', 'Bago, Bago', '244,376', '17.335 / 96.481'], ['7', 'Pathein, Ayeyarwady', '237,089', '16.779 / 94.732'], ['8', 'Monywa, Sagain', '182,011', '22.109 / 95.136'], ['9', 'Sittwe, Rakhine', '177,743', '20.146 / 92.898'], ['10', 'Meiktila, Mandalay', '177,442', '20.878 / 95.858'], ['11', 'Myeik, Tanintharyi', '173,298', '12.44 / 98.6'], ['12', 'KÄ“ng Tung, Shan', '171,620', '21.631 / 99.927']]\n"
     ]
    }
   ],
   "source": [
    "import pandas as pd\n",
    "from bs4 import BeautifulSoup\n",
    "import requests\n",
    "\n",
    "base_url = 'http://www.geonames.org/MM/largest-cities-in-myanmar-%5Bburma%5D.html'\n",
    "\n",
    "def scraper():\n",
    "    response = requests.get(base_url)\n",
    "    html = response.content\n",
    "\n",
    "    bs = BeautifulSoup(html, 'html.parser')\n",
    "\n",
    "    table = bs.find('table', {'class': 'restable'})\n",
    "    rows = table.find_all('tr')\n",
    "\n",
    "    data = [[cell.get_text(strip=True) for cell in row.find_all('td')] for row in rows[1:13]]\n",
    "\n",
    "    new_list = data\n",
    "\n",
    "    print(new_list)\n",
    "scraper()\n"
   ]
  }
 ],
 "metadata": {
  "kernelspec": {
   "display_name": "Python 3",
   "language": "python",
   "name": "python3"
  },
  "language_info": {
   "codemirror_mode": {
    "name": "ipython",
    "version": 3
   },
   "file_extension": ".py",
   "mimetype": "text/x-python",
   "name": "python",
   "nbconvert_exporter": "python",
   "pygments_lexer": "ipython3",
   "version": "3.10.6"
  },
  "orig_nbformat": 4
 },
 "nbformat": 4,
 "nbformat_minor": 2
}
